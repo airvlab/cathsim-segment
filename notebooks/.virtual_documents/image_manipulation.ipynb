import numpy as np
import matplotlib.pyplot as plt
import cv2
import skimage

from PIL import Image


img = Image.open("TestImg.png")
img = np.array(img)

plt.imshow(img)


# Make image grayscale.
img = cv2.cvtColor(img, cv2.COLOR_BGR2GRAY)

plt.imshow(img, cmap = "gray")


img = img[100:400, 150:400]

plt.imshow(img, cmap = "gray")


img = skimage.exposure.adjust_gamma(img, 3)

plt.imshow(img, cmap = "gray")


img = skimage.filters.gaussian(img, sigma=0.5)

plt.imshow(img, cmap = "gray")


img = skimage.filters.hessian(img, sigmas = [0.9])

plt.imshow(img, cmap = "gray")






